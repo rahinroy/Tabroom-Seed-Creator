{
  "nbformat": 4,
  "nbformat_minor": 0,
  "metadata": {
    "colab": {
      "name": "tabroom.ipynb",
      "provenance": []
    },
    "kernelspec": {
      "name": "python3",
      "display_name": "Python 3"
    }
  },
  "cells": [
    {
      "cell_type": "code",
      "metadata": {
        "id": "-cIRORzOJc7g",
        "colab_type": "code",
        "colab": {
          "base_uri": "https://localhost:8080/",
          "height": 68
        },
        "outputId": "aabddccb-3e32-4023-c9d5-9f0a1adabd9e"
      },
      "source": [
        "\n",
        "import urllib\n",
        "from bs4 import BeautifulSoup as soup\n",
        "import numpy as np\n",
        "import math\n",
        "\n",
        "\n",
        "ogPage = input(\"Enter Round 1 pairings URL (w/ https://):\")\n",
        "\n",
        "\n",
        "page = urllib.request.urlopen(ogPage)\n",
        "tab = soup(page, \"html.parser\")\n",
        "numByes = 0\n",
        "names = []\n",
        "html = []\n",
        "speaks = []\n",
        "cumeSpeaks = 0\n",
        "byes = 0\n",
        "data = tab.find_all(class_= \"white smallish padtop padbottom padleft\")\n",
        "dataList = list(data)\n",
        "length = len(dataList)\n",
        "\n",
        "for x in range(length):\n",
        "    if not (\",\" in str(dataList[x].text.strip())):\n",
        "        names.append(dataList[x].text.strip())\n",
        "        html.append(dataList[x].get(\"href\"))\n",
        "#print (names)\n",
        "\n",
        "\n",
        "\n",
        "\n",
        "prelimPage  = \"https://www.tabroom.com\" + str(html[0])\n",
        "page = urllib.request.urlopen(prelimPage)\n",
        "tab = soup(page, \"html.parser\")\n",
        "\n",
        "data = tab.find_all(class_= \"tenth semibold\")\n",
        "dataList = list(data)\n",
        "length = len(dataList)\n",
        "totalRounds = []\n",
        "prelimCounter = 0 \n",
        "\n",
        "for x in range(length):\n",
        "    totalRounds.append(dataList[x].text.strip())\n",
        "for x in (range(len(totalRounds))):\n",
        "    if (\"Round\" in totalRounds[x]):\n",
        "        prelimCounter = prelimCounter + 1\n",
        "rounds = prelimCounter\n",
        "times = rounds*2\n",
        "print(rounds)\n",
        "\n",
        "highLow = [0]*len(names)\n",
        "wins = [0]*len(names)\n",
        "for tms in range(len(html)):\n",
        "    numByes = 0;\n",
        "    ogPage = \"https://www.tabroom.com\" + str(html[tms])\n",
        "    page = urllib.request.urlopen(ogPage)\n",
        "    tab = soup(page, \"html.parser\")\n",
        "\n",
        "    #side or bye\n",
        "    side = tab.find_all(class_= \"tenth\")\n",
        "    sideList = list(side)\n",
        "\n",
        "    #for x in range(len(sideList)):\n",
        "#         if (str(sideList[x].text.strip()) == \"Bye\"):\n",
        "#             numByes = numByes + 1\n",
        "            #wins[tms] = wins[tms] + 1\n",
        "    #round number        \n",
        "    roundInfo = tab.find_all(class_=\"tenth semibold\")\n",
        "    roundList = list(roundInfo)\n",
        "    \n",
        "    #win or lose\n",
        "    data = tab.find_all(class_= \"tenth centeralign semibold\")\n",
        "    dataList = list(data)\n",
        "    length = len(dataList)\n",
        "    \n",
        "    #opp names\n",
        "    oppList = list(tab.find_all(class_=\"white padtop padbottom\"))\n",
        "    if (rounds <= length):\n",
        "        #print (names[tms] + \" \" + str(rounds-numByes))\n",
        "        for x in range(rounds):\n",
        "            #print (names[tms] + \" \" + dataList[len(dataList) - 1 - x].text.strip())\n",
        "            if (dataList[len(dataList) - 1 - x].text.strip() == \"W\"):\n",
        "                wins[tms] = wins[tms] + 1\n",
        "            if (dataList[len(dataList) - 1 - x].text.strip() == \"\"):\n",
        "                wins[tms] = wins[tms] + 1\n",
        "                numByes += 1\n",
        "    \n",
        "    \n",
        "    speaksList = list(tab.find_all(class_=\"fifth marno\"))\n",
        "    tempList = []\n",
        "    for x in range(len(speaksList)):\n",
        "        tempList.append(speaksList[x].text.strip())\n",
        "    speaks.append(tempList)\n",
        "    sum1 = 0\n",
        "    sum2 = 0\n",
        "    if (len(speaks[tms]) < (rounds*2) and len(speaks[tms]) > 0):\n",
        "        for y in range(len(speaks[tms])):\n",
        "            if (y % 2 == 0):\n",
        "                sum1 = sum1 + float(speaks[tms][y])            \n",
        "            else:\n",
        "                sum2 = sum2 + float(speaks[tms][y])\n",
        "        sum1 = float(sum1 /  ( (len(speaks[tms])) / 2))\n",
        "        sum1 = float(sum2 /  ( (len(speaks[tms])) / 2))\n",
        "    for y in range(numByes):\n",
        "        print(names[tms])\n",
        "        speaks[tms].append(sum1)\n",
        "        speaks[tms].append(sum2)"
      ],
      "execution_count": 1,
      "outputs": [
        {
          "output_type": "stream",
          "text": [
            "Enter Round 1 pairings URL (w/ https://):https://www.tabroom.com/index/tourn/postings/round.mhtml?tourn_id=13038&round_id=549713\n",
            "7\n",
            "Lincoln East WL\n"
          ],
          "name": "stdout"
        }
      ]
    },
    {
      "cell_type": "code",
      "metadata": {
        "id": "pHdlmojcJkRm",
        "colab_type": "code",
        "colab": {}
      },
      "source": [
        "speaker1 = []\n",
        "speaker2 = []\n",
        "for x in range(len(speaks)):\n",
        "    tempList1 = []\n",
        "    tempList2 = []\n",
        "    for y in range(len(speaks[x])):\n",
        "        if (y % 2 == 0):\n",
        "            tempList1.append(speaks[x][y])\n",
        "        else:\n",
        "            tempList2.append(speaks[x][y])\n",
        "    speaker1.append(tempList1)\n",
        "    speaker2.append(tempList2)\n",
        "for x in range(len(speaker1)):\n",
        "    speaker1[x] = [float(i) for i in speaker1[x]] \n",
        "    speaker2[x] = [float(i) for i in speaker2[x]]\n",
        "for x in range(len(speaker1)):\n",
        "    if (len(speaker1[x]) > 2):\n",
        "        speaker1[x].remove(max(speaker1[x]))\n",
        "        speaker1[x].remove(min(speaker1[x]))\n",
        "        speaker2[x].remove(min(speaker2[x]))\n",
        "        speaker2[x].remove(max(speaker2[x]))\n",
        "total1 = []\n",
        "total2 = []\n",
        "totalHL = []\n",
        "for x in range(len(speaker1)):\n",
        "    total1.append(sum(speaker1[x]))\n",
        "    total2.append(sum(speaker2[x]))\n",
        "for x in range(len(speaker1)):\n",
        "    totalHL.append(total1[x] + total2[x])"
      ],
      "execution_count": 0,
      "outputs": []
    },
    {
      "cell_type": "code",
      "metadata": {
        "id": "mCCddddPKPaF",
        "colab_type": "code",
        "colab": {
          "base_uri": "https://localhost:8080/",
          "height": 54
        },
        "outputId": "a82ee1ac-1925-47a1-e95e-8fc35143eaaf"
      },
      "source": [
        "print (names)"
      ],
      "execution_count": 4,
      "outputs": [
        {
          "output_type": "stream",
          "text": [
            "['Valley International LB', 'Winston Churchill DD', 'Oakton YZ', 'Edina JW', 'Charles W Flanagan DG', 'Montgomery Blair JQ', 'Potomac AA', 'Hackley YK', 'Montgomery Blair TK', 'Leland XK', 'Mira Loma GS', 'Coronado BS', 'Park City GW', 'Hunter TL', 'Walt Whitman DP', 'Park City EP', 'American Heritage Plantation ZR', 'King BM', 'Mission San Jose DD', 'Edina MZ', 'North Broward Prep KP', 'Highland NS', 'Lambert MY', 'Dalton YS', 'Westlake WP', 'College Prep CZ', 'Leland KL', 'Ridge RS', 'Chagrin Falls MH', 'College Prep HN', 'Acton-Boxborough HN', 'Fairmont Prep AA', 'Horace Mann MM', 'Summit SS', 'Sioux Falls JK', 'Lincoln East WL', 'Cranbrook RS', 'Charlotte Latin IS', 'Unionville GQ', 'Interlake LW', 'Bronx Science DG', 'Bethesda Chevy Chase GT', 'Brentwood KN', 'Fort Lee PK', 'Richard Montgomery HZ', 'Acton-Boxborough ML', 'Fairmont Prep BC', 'Overlake IM', 'Saratoga SP', 'University YP', 'Dublin Jerome KR', 'Richard Montgomery GL', 'Westlake DL', 'Vestavia Hills SZ', 'Blake HR', 'Quarry Lane SJ', 'Horace Mann LK', 'Hawken WM', 'Taipei American EH', 'Blake PW', 'Westborough SK', 'Hawken EG', 'Plano West Sr LY', 'Dexter LR', 'La Salle CH', 'University MN', 'Walt Whitman SD', 'Wayland WW', 'Coronado KW', 'Blake JS', 'Westwood FG', 'Acton-Boxborough CL', 'Durham HL', 'Millburn TW', 'Horace Mann XS', 'Westwood KS', 'Poly Prep Country Day ML', 'Horace Mann GS', 'Blake OP', 'Westlake HY', 'Campbell Hall SE', 'Mira Loma SS', \"St Mary's Hall ST\", 'Westridge OW', 'Fairmont Prep GJ', 'DuPont Manual BC', 'Newton South MM', 'NSU FR', 'Walt Whitman BW', 'Nueva RT', 'Mission San Jose CM', 'Plano West Sr NY', 'South Plantation GF']\n"
          ],
          "name": "stdout"
        }
      ]
    },
    {
      "cell_type": "code",
      "metadata": {
        "id": "cpJ5mbjoKVQL",
        "colab_type": "code",
        "colab": {
          "base_uri": "https://localhost:8080/",
          "height": 54
        },
        "outputId": "96a36673-8f57-49b1-a08b-2536aeb8da10"
      },
      "source": [
        "print(total1)"
      ],
      "execution_count": 5,
      "outputs": [
        {
          "output_type": "stream",
          "text": [
            "[143.5, 142.0, 146.0, 143.0, 145.0, 144.5, 140.5, 145.0, 145.0, 142.5, 145.0, 142.5, 142.0, 143.0, 144.5, 144.5, 142.0, 143.5, 144.0, 143.0, 142.5, 144.0, 143.0, 142.5, 144.5, 142.0, 143.5, 139.0, 145.0, 142.5, 142.0, 143.5, 145.0, 142.0, 141.0, 142.08333333333334, 144.5, 144.5, 145.0, 112.5, 145.5, 143.0, 143.5, 142.0, 143.5, 146.5, 144.0, 112.0, 144.5, 144.5, 142.5, 143.0, 147.5, 143.5, 142.0, 143.0, 86.0, 144.0, 115.5, 141.5, 142.5, 147.0, 143.5, 140.5, 143.0, 144.5, 144.0, 141.0, 142.5, 146.5, 143.5, 144.0, 145.0, 143.0, 115.0, 141.5, 141.0, 142.0, 142.5, 143.5, 145.0, 144.5, 142.0, 112.5, 146.0, 142.5, 143.5, 144.5, 143.5, 147.0, 143.5, 141.5, 111.5]\n"
          ],
          "name": "stdout"
        }
      ]
    },
    {
      "cell_type": "code",
      "metadata": {
        "id": "lzMQo08GKlNu",
        "colab_type": "code",
        "colab": {
          "base_uri": "https://localhost:8080/",
          "height": 54
        },
        "outputId": "c8b64c56-6675-4a60-a5c3-3e466fefbcb6"
      },
      "source": [
        "print(total2)"
      ],
      "execution_count": 6,
      "outputs": [
        {
          "output_type": "stream",
          "text": [
            "[145.0, 141.5, 142.5, 142.0, 143.0, 144.5, 140.0, 145.0, 146.0, 142.0, 147.5, 141.5, 145.5, 144.5, 143.5, 143.5, 144.0, 143.5, 144.5, 145.5, 143.0, 146.5, 143.0, 144.0, 143.5, 142.0, 143.5, 140.5, 142.5, 142.0, 142.5, 144.0, 145.0, 142.0, 141.5, 144.0, 145.0, 145.5, 145.0, 113.5, 145.0, 144.0, 141.5, 143.0, 143.5, 147.0, 143.5, 112.0, 143.5, 144.0, 142.5, 143.5, 146.0, 144.0, 140.5, 143.5, 86.5, 141.0, 114.0, 145.0, 144.0, 146.0, 142.5, 141.5, 142.5, 144.0, 143.5, 140.0, 141.5, 144.5, 140.0, 142.5, 144.5, 143.5, 115.5, 143.5, 141.5, 141.5, 143.5, 147.0, 145.0, 144.0, 142.5, 113.5, 144.5, 143.0, 142.5, 144.0, 143.5, 146.5, 143.5, 143.5, 111.0]\n"
          ],
          "name": "stdout"
        }
      ]
    },
    {
      "cell_type": "code",
      "metadata": {
        "id": "4nZUW2tUKoG1",
        "colab_type": "code",
        "colab": {
          "base_uri": "https://localhost:8080/",
          "height": 54
        },
        "outputId": "de955157-3516-4835-c0d0-6de7970986ae"
      },
      "source": [
        "print(wins)"
      ],
      "execution_count": 7,
      "outputs": [
        {
          "output_type": "stream",
          "text": [
            "[7, 5, 3, 3, 3, 6, 3, 4, 4, 4, 5, 4, 5, 5, 2, 4, 3, 2, 4, 5, 6, 6, 3, 2, 4, 4, 2, 3, 4, 4, 3, 2, 5, 2, 1, 3, 3, 4, 3, 0, 5, 5, 3, 1, 4, 5, 2, 0, 5, 5, 2, 2, 5, 4, 2, 2, 0, 3, 0, 3, 4, 6, 3, 1, 4, 3, 3, 3, 4, 5, 2, 4, 4, 3, 0, 1, 2, 2, 4, 4, 5, 5, 3, 0, 5, 4, 4, 3, 4, 6, 4, 4, 0]\n"
          ],
          "name": "stdout"
        }
      ]
    },
    {
      "cell_type": "code",
      "metadata": {
        "id": "D7naDt6tKowa",
        "colab_type": "code",
        "colab": {}
      },
      "source": [
        ""
      ],
      "execution_count": 0,
      "outputs": []
    }
  ]
}